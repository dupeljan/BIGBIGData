{
 "cells": [
  {
   "cell_type": "markdown",
   "metadata": {},
   "source": [
    "Read messages from 'example_topic'"
   ]
  },
  {
   "cell_type": "code",
   "execution_count": null,
   "metadata": {},
   "outputs": [
    {
     "name": "stdout",
     "output_type": "stream",
     "text": [
      "b'am'\n",
      "b'amam'\n",
      "b'amamam'\n",
      "b'amamamam'\n",
      "b'amamamamam'\n",
      "b'amamamamamam'\n",
      "b'amamamamamamam'\n",
      "b'amamamamamamamam'\n",
      "b'amamamamamamamamam'\n",
      "b'amamamamamamamamamam'\n",
      "b'am'\n",
      "b'amam'\n",
      "b'amamam'\n",
      "b'amamamam'\n",
      "b'amamamamam'\n",
      "b'amamamamamam'\n",
      "b'amamamamamamam'\n",
      "b'amamamamamamamam'\n",
      "b'amamamamamamamamam'\n",
      "b'amamamamamamamamamam'\n",
      "b'gugu'\n",
      "b'gugugugu'\n",
      "b'gugugugugugu'\n",
      "b'gugugugugugugugu'\n",
      "b'gugugugugugugugugugu'\n",
      "b'gugugugugugugugugugugugu'\n",
      "b'gugugugugugugugugugugugugugu'\n",
      "b'gugugugugugugugugugugugugugugugu'\n",
      "b'gugugugugugugugugugugugugugugugugugu'\n",
      "b'gugugugugugugugugugugugugugugugugugugugu'\n"
     ]
    }
   ],
   "source": [
    "from kafka import KafkaConsumer\n",
    "consumer = KafkaConsumer('example_topic',bootstrap_servers=\"localhost:9092\" )\n",
    "for msg in consumer:\n",
    "    print (msg.value)"
   ]
  },
  {
   "cell_type": "code",
   "execution_count": null,
   "metadata": {},
   "outputs": [],
   "source": []
  }
 ],
 "metadata": {
  "kernelspec": {
   "display_name": "Python 3",
   "language": "python",
   "name": "python3"
  },
  "language_info": {
   "codemirror_mode": {
    "name": "ipython",
    "version": 3
   },
   "file_extension": ".py",
   "mimetype": "text/x-python",
   "name": "python",
   "nbconvert_exporter": "python",
   "pygments_lexer": "ipython3",
   "version": "3.8.3"
  }
 },
 "nbformat": 4,
 "nbformat_minor": 4
}

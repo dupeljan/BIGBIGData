{
 "cells": [
  {
   "cell_type": "code",
   "execution_count": null,
   "metadata": {},
   "outputs": [],
   "source": [
    "from kafka.admin import KafkaAdminClient, NewTopic\n",
    "\n",
    "\n",
    "admin_client = KafkaAdminClient(\n",
    "    bootstrap_servers=\"localhost:9092\", \n",
    "    client_id='test'\n",
    ")\n",
    "\n",
    "topic_list = []\n",
    "topic_list.append(NewTopic(name=\"example_topic\", num_partitions=1, replication_factor=1))\n",
    "admin_client.create_topics(new_topics=topic_list, validate_only=False)"
   ]
  },
  {
   "cell_type": "code",
   "execution_count": null,
   "metadata": {},
   "outputs": [],
   "source": [
    "from kafka import KafkaProducer\n",
    "producer = KafkaProducer(bootstrap_servers='localhost:9092')\n",
    "for i in range(10):\n",
    "    producer.send('example_topic', b'A'*(i+1))\n",
    "print(\"OK, send messages\")"
   ]
  },
  {
   "cell_type": "code",
   "execution_count": null,
   "metadata": {},
   "outputs": [
    {
     "name": "stdout",
     "output_type": "stream",
     "text": [
      "ConsumerRecord(topic='example_topic', partition=0, offset=20, timestamp=1600335489279, timestamp_type=0, key=None, value=b'eeee', headers=[], checksum=None, serialized_key_size=-1, serialized_value_size=4, serialized_header_size=-1)\n",
      "ConsumerRecord(topic='example_topic', partition=0, offset=21, timestamp=1600335492503, timestamp_type=0, key=None, value=b'kopa', headers=[], checksum=None, serialized_key_size=-1, serialized_value_size=4, serialized_header_size=-1)\n",
      "ConsumerRecord(topic='example_topic', partition=0, offset=22, timestamp=1600335493938, timestamp_type=0, key=None, value=b'jopa', headers=[], checksum=None, serialized_key_size=-1, serialized_value_size=4, serialized_header_size=-1)\n"
     ]
    }
   ],
   "source": [
    "from kafka import KafkaConsumer\n",
    "consumer = KafkaConsumer('example_topic')\n",
    "for msg in consumer:\n",
    "    print (msg)"
   ]
  },
  {
   "cell_type": "code",
   "execution_count": null,
   "metadata": {},
   "outputs": [],
   "source": []
  }
 ],
 "metadata": {
  "kernelspec": {
   "display_name": "Python 3",
   "language": "python",
   "name": "python3"
  }
 },
 "nbformat": 4,
 "nbformat_minor": 4
}
